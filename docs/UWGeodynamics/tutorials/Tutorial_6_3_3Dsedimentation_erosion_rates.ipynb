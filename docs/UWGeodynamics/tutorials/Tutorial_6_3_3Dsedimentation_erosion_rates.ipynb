{
 "cells": [
  {
   "cell_type": "markdown",
   "metadata": {},
   "source": [
    "# Tutorial 6: Simple Surface Processes"
   ]
  },
  {
   "cell_type": "code",
   "execution_count": null,
   "metadata": {
    "tags": []
   },
   "outputs": [],
   "source": [
    "from underworld import UWGeodynamics as GEO\n",
    "from underworld import visualisation as vis\n",
    "\n",
    "import underworld.function as fn"
   ]
  },
  {
   "cell_type": "code",
   "execution_count": null,
   "metadata": {
    "tags": []
   },
   "outputs": [],
   "source": [
    "u = GEO.UnitRegistry"
   ]
  },
  {
   "cell_type": "code",
   "execution_count": null,
   "metadata": {
    "tags": []
   },
   "outputs": [],
   "source": [
    "# Characteristic values of the system\n",
    "half_rate = 1.8 * u.centimeter / u.year\n",
    "model_length = 360e3 * u.meter\n",
    "model_height = 120e3 * u.meter\n",
    "refViscosity = 1e24 * u.pascal * u.second\n",
    "surfaceTemp = 273.15 * u.degK\n",
    "baseModelTemp = 1603.15 * u.degK\n",
    "bodyforce = 3300 * u.kilogram / u.metre**3 * 9.81 * u.meter / u.second**2\n",
    "\n",
    "KL = model_length\n",
    "Kt = KL / half_rate\n",
    "KM = bodyforce * KL**2 * Kt**2\n",
    "KT = (baseModelTemp - surfaceTemp)\n",
    "\n",
    "GEO.scaling_coefficients[\"[length]\"] = KL\n",
    "GEO.scaling_coefficients[\"[time]\"] = Kt\n",
    "GEO.scaling_coefficients[\"[mass]\"]= KM\n",
    "GEO.scaling_coefficients[\"[temperature]\"] = KT"
   ]
  },
  {
   "cell_type": "code",
   "execution_count": null,
   "metadata": {
    "tags": []
   },
   "outputs": [],
   "source": [
    "Model = GEO.Model(elementRes=(16, 16, 16), \n",
    "                  minCoord=(0. * u.kilometer, 0. * u.kilometer, -110. * u.kilometer), \n",
    "                  maxCoord=(120. * u.kilometer, 120. * u.kilometer, 10. * u.kilometer), \n",
    "                  gravity=(0.0, 0.0, -9.81 * u.meter / u.second**2))"
   ]
  },
  {
   "cell_type": "code",
   "execution_count": null,
   "metadata": {
    "tags": []
   },
   "outputs": [],
   "source": [
    "Model.outputDir=\"outputs_tutorial6.3_velSP_3D\""
   ]
  },
  {
   "cell_type": "code",
   "execution_count": null,
   "metadata": {},
   "outputs": [],
   "source": [
    "Model.diffusivity = 1e-6 * u.metre**2 / u.second \n",
    "Model.capacity    = 1000. * u.joule / (u.kelvin * u.kilogram)"
   ]
  },
  {
   "cell_type": "code",
   "execution_count": null,
   "metadata": {},
   "outputs": [],
   "source": [
    "air               = Model.add_material(name=\"Air\", shape=GEO.shapes.Layer3D(top=Model.top, bottom=0.0 * u.kilometer))\n",
    "# stickyAir         = Model.add_material(name=\"StickyAir\", shape=GEO.shapes.Layer2D(top=air.bottom, bottom= 0.0 * u.kilometer))\n",
    "uppercrust        = Model.add_material(name=\"UppperCrust\", shape=GEO.shapes.Layer3D(top=air.bottom, bottom=-35.0 * u.kilometer))\n",
    "mantleLithosphere = Model.add_material(name=\"MantleLithosphere\", shape=GEO.shapes.Layer3D(top=uppercrust.bottom, bottom=-100.0 * u.kilometer))\n",
    "mantle            = Model.add_material(name=\"Mantle\", shape=GEO.shapes.Layer3D(top=mantleLithosphere.bottom, bottom=Model.bottom))\n",
    "sediment          = Model.add_material(name=\"Sediment\")"
   ]
  },
  {
   "cell_type": "code",
   "execution_count": null,
   "metadata": {},
   "outputs": [],
   "source": [
    "air.diffusivity = 1.0e-6 * u.metre**2 / u.second\n",
    "air.capacity = 100. * u.joule / (u.kelvin * u.kilogram)\n",
    "\n",
    "# stickyAir.diffusivity = 1.0e-6 * u.metre**2 / u.second\n",
    "# stickyAir.capacity = 100. * u.joule / (u.kelvin * u.kilogram)"
   ]
  },
  {
   "cell_type": "code",
   "execution_count": null,
   "metadata": {},
   "outputs": [],
   "source": [
    "air.density                = 1. * u.kilogram / u.metre**3\n",
    "# stickyAir.density          = 1. * u.kilogram / u.metre**3\n",
    "uppercrust.density         = GEO.LinearDensity(reference_density=2620. * u.kilogram / u.metre**3)\n",
    "mantleLithosphere.density  = GEO.LinearDensity(reference_density=3370. * u.kilogram / u.metre**3)\n",
    "mantle.density             = GEO.LinearDensity(reference_density=3370. * u.kilogram / u.metre**3)\n",
    "sediment.density           = GEO.LinearDensity(reference_density=2300. * u.kilogram / u.metre**3)"
   ]
  },
  {
   "cell_type": "code",
   "execution_count": null,
   "metadata": {},
   "outputs": [],
   "source": [
    "uppercrust.radiogenicHeatProd = 0.7 * u.microwatt / u.meter**3\n",
    "sediment.radiogenicHeatProd   = 0.7 * u.microwatt / u.meter**3\n",
    "mantleLithosphere.radiogenicHeatProd = 0.02 * u.microwatt / u.meter**3"
   ]
  },
  {
   "cell_type": "code",
   "execution_count": null,
   "metadata": {},
   "outputs": [],
   "source": [
    "rh = GEO.ViscousCreepRegistry()"
   ]
  },
  {
   "cell_type": "code",
   "execution_count": null,
   "metadata": {},
   "outputs": [],
   "source": [
    "air.viscosity                = 1e19 * u.pascal * u.second\n",
    "# stickyAir.viscosity          = 1e20 * u.pascal * u.second\n",
    "uppercrust.viscosity         = 1 * rh.Wet_Quartz_Dislocation_Gleason_and_Tullis_1995\n",
    "mantleLithosphere.viscosity  = rh.Dry_Olivine_Dislocation_Karato_and_Wu_1993\n",
    "mantle.viscosity             = 0.2 * rh.Dry_Olivine_Dislocation_Karato_and_Wu_1993\n",
    "sediment.viscosity           = rh.Wet_Quartz_Dislocation_Gleason_and_Tullis_1995"
   ]
  },
  {
   "cell_type": "code",
   "execution_count": null,
   "metadata": {},
   "outputs": [],
   "source": [
    "plasticity = GEO.DruckerPrager(cohesion=20.0 * u.megapascal,\n",
    "                               cohesionAfterSoftening=20 * u.megapascal,\n",
    "                               frictionCoefficient=0.12,\n",
    "                               frictionAfterSoftening=0.02,\n",
    "                               epsilon1=0.5,\n",
    "                               epsilon2=1.5)"
   ]
  },
  {
   "cell_type": "code",
   "execution_count": null,
   "metadata": {},
   "outputs": [],
   "source": [
    "uppercrust.plasticity         = plasticity\n",
    "mantleLithosphere.plasticity  = plasticity\n",
    "mantle.plasticity             = plasticity\n",
    "sediment.plasticity           = plasticity"
   ]
  },
  {
   "cell_type": "markdown",
   "metadata": {},
   "source": [
    "## Temperature Boundary Condition"
   ]
  },
  {
   "cell_type": "code",
   "execution_count": null,
   "metadata": {},
   "outputs": [],
   "source": [
    "Model.set_temperatureBCs(top=293.15 * u.degK, \n",
    "                         bottom=1603.15 * u.degK, \n",
    "                         materials=[(mantle, 1603.15 * u.degK), (air, 293.15 * u.degK)])"
   ]
  },
  {
   "cell_type": "markdown",
   "metadata": {},
   "source": [
    "## Velocity Boundary Conditions"
   ]
  },
  {
   "cell_type": "code",
   "execution_count": null,
   "metadata": {},
   "outputs": [],
   "source": [
    "vel = 2.5 * u.centimeter / u.year\n",
    "\n",
    "\n",
    "\n",
    "vol_out = 2*(vel*(air.top - air.bottom)*Model.maxCoord[1]).to_base_units()\n",
    "vol_out"
   ]
  },
  {
   "cell_type": "code",
   "execution_count": null,
   "metadata": {},
   "outputs": [],
   "source": [
    "### Velocity at surface to replace air that gets removed at sides\n",
    "vel_in = vol_out / (Model.maxCoord[0] * Model.maxCoord[1])\n",
    "vel_in.to_base_units()"
   ]
  },
  {
   "cell_type": "code",
   "execution_count": null,
   "metadata": {},
   "outputs": [],
   "source": [
    "Model.set_velocityBCs(left = [-vel, None, None],\n",
    "                      right=[vel, None, None],\n",
    "                      front=[None, 0.0, None], back=[None, 0.0, None],\n",
    "                      top = [None, None, -1*vel_in],\n",
    "                      bottom = [None, None, None])"
   ]
  },
  {
   "cell_type": "markdown",
   "metadata": {},
   "source": [
    "## Initial Damage"
   ]
  },
  {
   "cell_type": "code",
   "execution_count": null,
   "metadata": {},
   "outputs": [],
   "source": [
    "import numpy as np\n",
    "\n",
    "def gaussian(xx, centre, width):\n",
    "    return ( np.exp( -(xx - centre)**2 / width ))\n",
    "\n",
    "maxDamage = 0.7\n",
    "Model.plasticStrain.data[:] = 0.\n",
    "Model.plasticStrain.data[:] = maxDamage * np.random.rand(*Model.plasticStrain.data.shape[:])\n",
    "Model.plasticStrain.data[:,0] *= gaussian(Model.swarm.particleCoordinates.data[:,0], (GEO.nd(Model.maxCoord[0] - Model.minCoord[0])) / 2.0, GEO.nd(5.0 * u.kilometer))\n",
    "Model.plasticStrain.data[:,0] *= gaussian(Model.swarm.particleCoordinates.data[:,2], GEO.nd(-35. * u.kilometer) , GEO.nd(5.0 * u.kilometer))"
   ]
  },
  {
   "cell_type": "code",
   "execution_count": null,
   "metadata": {},
   "outputs": [],
   "source": [
    "if GEO.nProcs == 1:\n",
    "    Fig = vis.Figure(resolution=(1200,600))\n",
    "    Fig.Surface(Model.mesh, Model.plasticStrain, cullface=False, opacity=0.5)\n",
    "    Fig.window()"
   ]
  },
  {
   "cell_type": "code",
   "execution_count": null,
   "metadata": {},
   "outputs": [],
   "source": [
    "if GEO.nProcs == 1:\n",
    "    Fig = vis.Figure(resolution=(1200,600))\n",
    "    Fig.Surface(Model.mesh, Model.materialField, cullface=False, opacity=0.5)\n",
    "    Fig.window()"
   ]
  },
  {
   "cell_type": "markdown",
   "metadata": {},
   "source": [
    "### x and y coordinates for the surface"
   ]
  },
  {
   "cell_type": "code",
   "execution_count": null,
   "metadata": {},
   "outputs": [],
   "source": [
    "import numpy as np\n",
    "\n",
    "x = np.linspace(Model.minCoord[0], Model.maxCoord[0], 4*(Model.mesh.elementRes[0]+1))\n",
    "y = np.linspace(Model.minCoord[1], Model.maxCoord[1], 4*(Model.mesh.elementRes[1]+1))\n",
    "\n",
    "xi, yi = np.meshgrid(x, y)\n",
    "\n",
    "coords = np.zeros(shape=(xi.flatten().shape[0], 3))\n",
    "coords[:,0] = xi.flatten()\n",
    "coords[:,1] = yi.flatten()\n",
    "coords[:,2] = np.zeros_like(coords[:,0]) ### or any array with same shape as x and y coords with the initial height\n",
    "\n",
    "### add back in the dim\n",
    "coords = coords * u.kilometer"
   ]
  },
  {
   "cell_type": "markdown",
   "metadata": {},
   "source": [
    "### Include erosion and sedimentation rates in model runs\n",
    "\n",
    "A branching condition is used to create erosion and sedimentation rates that can vary across the domain"
   ]
  },
  {
   "cell_type": "code",
   "execution_count": null,
   "metadata": {
    "tags": []
   },
   "outputs": [],
   "source": [
    "ve_conditions = fn.branching.conditional([((Model.y >= GEO.nd(Model.maxCoord[1])/2.), GEO.nd(2.5 * u.millimeter/u.year)),\n",
    "                                            (True, GEO.nd(0.0 * u.millimeter/u.year))])\n",
    "\n",
    "vs_conditions = fn.branching.conditional([((Model.y >= GEO.nd(Model.maxCoord[1])/2.), GEO.nd(2.5 * u.millimeter/u.year)),\n",
    "                                          (True, GEO.nd(0.0 * u.millimeter/u.year))])\n",
    "\n",
    "Model.surfaceProcesses = GEO.surfaceProcesses.velocitySurface_3D(airIndex     = air.index,\n",
    "                                                               sedimentIndex= sediment.index,\n",
    "                                                               surfaceArray = coords,                ### grid with surface points (x, y, z)\n",
    "                                                               vs_condition = vs_conditions,         ### sedimentation rate at each grid point\n",
    "                                                               ve_condition = ve_conditions,         ### erosion rate at each grid point\n",
    "                                                               surfaceElevation=air.bottom)"
   ]
  },
  {
   "cell_type": "code",
   "execution_count": null,
   "metadata": {},
   "outputs": [],
   "source": [
    "from underworld import visualisation as vis\n",
    "Fig = vis.Figure(figsize=(1200,400))\n",
    "Fig.Points(Model.surface_tracers, Model.surface_tracers.ve, fn_size=5)\n",
    "Fig.show()"
   ]
  },
  {
   "cell_type": "code",
   "execution_count": null,
   "metadata": {},
   "outputs": [],
   "source": [
    "from underworld import visualisation as vis\n",
    "Fig = vis.Figure(figsize=(1200,400))\n",
    "Fig.Points(Model.surface_tracers, Model.surface_tracers.vs, fn_size=5)\n",
    "Fig.show()"
   ]
  },
  {
   "cell_type": "code",
   "execution_count": null,
   "metadata": {},
   "outputs": [],
   "source": [
    "Model.init_model(temperature=\"steady-state\", pressure=\"lithostatic\")"
   ]
  },
  {
   "cell_type": "code",
   "execution_count": null,
   "metadata": {},
   "outputs": [],
   "source": [
    "GEO.rcParams['initial.nonlinear.min.iterations'] = 1\n",
    "GEO.rcParams['nonlinear.min.iterations'] = 1"
   ]
  },
  {
   "cell_type": "code",
   "execution_count": null,
   "metadata": {},
   "outputs": [],
   "source": [
    "# Model.solver.set_inner_method(\"mumps\")\n",
    "# Model.solver.set_penalty(1e6)\n",
    "GEO.rcParams[\"initial.nonlinear.tolerance\"] = 1e-2"
   ]
  },
  {
   "cell_type": "code",
   "execution_count": null,
   "metadata": {
    "tags": []
   },
   "outputs": [],
   "source": [
    "Model.run_for(duration=0.51 * u.megayear, checkpoint_interval=0.5*u.megayears)"
   ]
  },
  {
   "cell_type": "code",
   "execution_count": null,
   "metadata": {},
   "outputs": [],
   "source": [
    "if GEO.size == 1:\n",
    "    import matplotlib.pyplot as plt\n",
    "    \n",
    "    \n",
    "    surface = GEO.dim(Model.surface_tracers.data, u.kilometer)\n",
    "\n",
    "    scatter = plt.scatter(surface[:,0], surface[:,1], c=surface[:,2], s=10)\n",
    "\n",
    "    cbar = plt.colorbar(scatter)\n",
    "    \n",
    "    cbar.set_label('Topo [km]')\n",
    "    \n",
    "    \n",
    "    plt.xlabel('x [km]')\n",
    "    plt.xlabel('y [km]')\n",
    "    \n",
    "    plt.show()\n",
    "    \n",
    "    \n",
    "    plt.plot()\n",
    "                  \n",
    "    profile1 = surface[surface[:,1].m == np.unique(surface.m[:,0])[20]]\n",
    "    profile2 = surface[surface[:,1].m == np.unique(surface.m[:,0])[-20]]\n",
    "                        \n",
    "    plt.plot(profile1[:,0], profile1[:,2], label = 'No SP') \n",
    "                          \n",
    "    plt.plot(profile2[:,0], profile2[:,2], label = 'SP')\n",
    "    \n",
    "    plt.xlabel('x [km]')\n",
    "    \n",
    "    plt.ylabel('Topo [km]')\n",
    "    \n",
    "    plt.legend()\n",
    "    \n",
    "    "
   ]
  },
  {
   "cell_type": "code",
   "execution_count": null,
   "metadata": {
    "tags": []
   },
   "outputs": [],
   "source": []
  },
  {
   "cell_type": "code",
   "execution_count": null,
   "metadata": {},
   "outputs": [],
   "source": []
  }
 ],
 "metadata": {
  "kernelspec": {
   "display_name": "Python 3 (ipykernel)",
   "language": "python",
   "name": "python3"
  },
  "language_info": {
   "codemirror_mode": {
    "name": "ipython",
    "version": 3
   },
   "file_extension": ".py",
   "mimetype": "text/x-python",
   "name": "python",
   "nbconvert_exporter": "python",
   "pygments_lexer": "ipython3",
   "version": "3.11.2"
  }
 },
 "nbformat": 4,
 "nbformat_minor": 4
}
