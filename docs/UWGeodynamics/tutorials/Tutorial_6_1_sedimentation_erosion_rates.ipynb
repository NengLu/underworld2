{
 "cells": [
  {
   "cell_type": "markdown",
   "metadata": {},
   "source": [
    "# Tutorial 6: Simple Surface Processes"
   ]
  },
  {
   "cell_type": "code",
   "execution_count": null,
   "metadata": {},
   "outputs": [],
   "source": [
    "from underworld import UWGeodynamics as GEO\n",
    "from underworld import visualisation as vis"
   ]
  },
  {
   "cell_type": "code",
   "execution_count": null,
   "metadata": {},
   "outputs": [],
   "source": [
    "u = GEO.UnitRegistry"
   ]
  },
  {
   "cell_type": "code",
   "execution_count": null,
   "metadata": {},
   "outputs": [],
   "source": [
    "# Characteristic values of the system\n",
    "half_rate = 1.8 * u.centimeter / u.year\n",
    "model_length = 360e3 * u.meter\n",
    "model_height = 120e3 * u.meter\n",
    "refViscosity = 1e24 * u.pascal * u.second\n",
    "surfaceTemp = 273.15 * u.degK\n",
    "baseModelTemp = 1603.15 * u.degK\n",
    "bodyforce = 3300 * u.kilogram / u.metre**3 * 9.81 * u.meter / u.second**2\n",
    "\n",
    "KL = model_length\n",
    "Kt = KL / half_rate\n",
    "KM = bodyforce * KL**2 * Kt**2\n",
    "KT = (baseModelTemp - surfaceTemp)\n",
    "\n",
    "GEO.scaling_coefficients[\"[length]\"] = KL\n",
    "GEO.scaling_coefficients[\"[time]\"] = Kt\n",
    "GEO.scaling_coefficients[\"[mass]\"]= KM\n",
    "GEO.scaling_coefficients[\"[temperature]\"] = KT"
   ]
  },
  {
   "cell_type": "code",
   "execution_count": null,
   "metadata": {},
   "outputs": [],
   "source": [
    "Model = GEO.Model(elementRes=(144, 48), \n",
    "                  minCoord=(0. * u.kilometer, -110. * u.kilometer), \n",
    "                  maxCoord=(360. * u.kilometer, 10. * u.kilometer), \n",
    "                  gravity=(0.0, -9.81 * u.meter / u.second**2))"
   ]
  },
  {
   "cell_type": "code",
   "execution_count": null,
   "metadata": {},
   "outputs": [],
   "source": [
    "Model.outputDir=\"outputs_tutorial6.1_velSP\""
   ]
  },
  {
   "cell_type": "code",
   "execution_count": null,
   "metadata": {},
   "outputs": [],
   "source": [
    "Model.diffusivity = 1e-6 * u.metre**2 / u.second \n",
    "Model.capacity    = 1000. * u.joule / (u.kelvin * u.kilogram)"
   ]
  },
  {
   "cell_type": "code",
   "execution_count": null,
   "metadata": {},
   "outputs": [],
   "source": [
    "air               = Model.add_material(name=\"Air\", shape=GEO.shapes.Layer2D(top=Model.top, bottom=0.0 * u.kilometer))\n",
    "# stickyAir         = Model.add_material(name=\"StickyAir\", shape=GEO.shapes.Layer2D(top=air.bottom, bottom= 0.0 * u.kilometer))\n",
    "uppercrust        = Model.add_material(name=\"UppperCrust\", shape=GEO.shapes.Layer2D(top=air.bottom, bottom=-35.0 * u.kilometer))\n",
    "mantleLithosphere = Model.add_material(name=\"MantleLithosphere\", shape=GEO.shapes.Layer2D(top=uppercrust.bottom, bottom=-100.0 * u.kilometer))\n",
    "mantle            = Model.add_material(name=\"Mantle\", shape=GEO.shapes.Layer2D(top=mantleLithosphere.bottom, bottom=Model.bottom))\n",
    "sediment          = Model.add_material(name=\"Sediment\")"
   ]
  },
  {
   "cell_type": "code",
   "execution_count": null,
   "metadata": {},
   "outputs": [],
   "source": [
    "air.diffusivity = 1.0e-6 * u.metre**2 / u.second\n",
    "air.capacity = 100. * u.joule / (u.kelvin * u.kilogram)\n",
    "\n",
    "# stickyAir.diffusivity = 1.0e-6 * u.metre**2 / u.second\n",
    "# stickyAir.capacity = 100. * u.joule / (u.kelvin * u.kilogram)"
   ]
  },
  {
   "cell_type": "code",
   "execution_count": null,
   "metadata": {},
   "outputs": [],
   "source": [
    "air.density                = 1. * u.kilogram / u.metre**3\n",
    "# stickyAir.density          = 1. * u.kilogram / u.metre**3\n",
    "uppercrust.density         = GEO.LinearDensity(reference_density=2620. * u.kilogram / u.metre**3)\n",
    "mantleLithosphere.density  = GEO.LinearDensity(reference_density=3370. * u.kilogram / u.metre**3)\n",
    "mantle.density             = GEO.LinearDensity(reference_density=3370. * u.kilogram / u.metre**3)\n",
    "sediment.density           = GEO.LinearDensity(reference_density=2300. * u.kilogram / u.metre**3)"
   ]
  },
  {
   "cell_type": "code",
   "execution_count": null,
   "metadata": {},
   "outputs": [],
   "source": [
    "uppercrust.radiogenicHeatProd = 0.7 * u.microwatt / u.meter**3\n",
    "sediment.radiogenicHeatProd   = 0.7 * u.microwatt / u.meter**3\n",
    "mantleLithosphere.radiogenicHeatProd = 0.02e-6 * u.microwatt / u.meter**3"
   ]
  },
  {
   "cell_type": "code",
   "execution_count": null,
   "metadata": {},
   "outputs": [],
   "source": [
    "rh = GEO.ViscousCreepRegistry()"
   ]
  },
  {
   "cell_type": "code",
   "execution_count": null,
   "metadata": {},
   "outputs": [],
   "source": [
    "air.viscosity                = 1e19 * u.pascal * u.second\n",
    "# stickyAir.viscosity          = 1e20 * u.pascal * u.second\n",
    "uppercrust.viscosity         = 1 * rh.Wet_Quartz_Dislocation_Gleason_and_Tullis_1995\n",
    "mantleLithosphere.viscosity  = rh.Dry_Olivine_Dislocation_Karato_and_Wu_1993\n",
    "mantle.viscosity             = 0.2 * rh.Dry_Olivine_Dislocation_Karato_and_Wu_1993\n",
    "sediment.viscosity         = rh.Wet_Quartz_Dislocation_Gleason_and_Tullis_1995"
   ]
  },
  {
   "cell_type": "code",
   "execution_count": null,
   "metadata": {},
   "outputs": [],
   "source": [
    "plasticity = GEO.DruckerPrager(cohesion=20.0 * u.megapascal,\n",
    "                               cohesionAfterSoftening=20 * u.megapascal,\n",
    "                               frictionCoefficient=0.12,\n",
    "                               frictionAfterSoftening=0.02,\n",
    "                               epsilon1=0.5,\n",
    "                               epsilon2=1.5)"
   ]
  },
  {
   "cell_type": "code",
   "execution_count": null,
   "metadata": {},
   "outputs": [],
   "source": [
    "uppercrust.plasticity         = plasticity\n",
    "mantleLithosphere.plasticity  = plasticity\n",
    "mantle.plasticity             = plasticity\n",
    "sediment.plasticity           = plasticity"
   ]
  },
  {
   "cell_type": "code",
   "execution_count": null,
   "metadata": {},
   "outputs": [],
   "source": [
    "from underworld import visualisation as vis\n",
    "Fig = vis.Figure(figsize=(1200,400))\n",
    "Fig.Points(Model.swarm, Model.materialField, fn_size=2.0)\n",
    "Fig.show()"
   ]
  },
  {
   "cell_type": "markdown",
   "metadata": {},
   "source": [
    "## Temperature Boundary Condition"
   ]
  },
  {
   "cell_type": "code",
   "execution_count": null,
   "metadata": {},
   "outputs": [],
   "source": [
    "Model.set_temperatureBCs(top=293.15 * u.degK, \n",
    "                         bottom=1603.15 * u.degK, \n",
    "                         materials=[(mantle, 1603.15 * u.degK), (air, 293.15 * u.degK)])"
   ]
  },
  {
   "cell_type": "markdown",
   "metadata": {},
   "source": [
    "## Velocity Boundary Conditions"
   ]
  },
  {
   "cell_type": "code",
   "execution_count": null,
   "metadata": {},
   "outputs": [],
   "source": [
    "Model.set_velocityBCs(left=[-2.5 * u.centimeter / u.year, None],\n",
    "                       right=[2.5 * u.centimeter / u.year, None],\n",
    "                      top = [None, 0.])\n",
    "#                        bottom=GEO.LecodeIsostasy(reference_mat=mantle, average=True))"
   ]
  },
  {
   "cell_type": "markdown",
   "metadata": {},
   "source": [
    "## Initial Damage"
   ]
  },
  {
   "cell_type": "code",
   "execution_count": null,
   "metadata": {},
   "outputs": [],
   "source": [
    "import numpy as np\n",
    "\n",
    "def gaussian(xx, centre, width):\n",
    "    return ( np.exp( -(xx - centre)**2 / width ))\n",
    "\n",
    "maxDamage = 0.7\n",
    "Model.plasticStrain.data[:] = maxDamage * np.random.rand(*Model.plasticStrain.data.shape[:])\n",
    "Model.plasticStrain.data[:,0] *= gaussian(Model.swarm.particleCoordinates.data[:,0], (GEO.nd(Model.maxCoord[0] - Model.minCoord[0])) / 2.0, GEO.nd(5.0 * u.kilometer))\n",
    "Model.plasticStrain.data[:,0] *= gaussian(Model.swarm.particleCoordinates.data[:,1], GEO.nd(-35. * u.kilometer) , GEO.nd(5.0 * u.kilometer))"
   ]
  },
  {
   "cell_type": "markdown",
   "metadata": {},
   "source": [
    "### x and y coordinates for the surface"
   ]
  },
  {
   "cell_type": "code",
   "execution_count": null,
   "metadata": {},
   "outputs": [],
   "source": [
    "import numpy as np\n",
    "\n",
    "npoints = int(Model.length.magnitude)\n",
    "\n",
    "\n",
    "coords = np.ndarray((npoints, 2))\n",
    "coords[:, 0] = np.linspace(GEO.nd(Model.minCoord[0]), GEO.nd(Model.maxCoord[0]), npoints)\n",
    "coords[:, 1] = GEO.nd(uppercrust.top)"
   ]
  },
  {
   "cell_type": "markdown",
   "metadata": {},
   "source": [
    "### Include erosion and sedimentation rates in model runs"
   ]
  },
  {
   "cell_type": "code",
   "execution_count": null,
   "metadata": {},
   "outputs": [],
   "source": [
    "Model.surfaceProcesses = GEO.surfaceProcesses.velocitySurface_2D(\n",
    "    airIndex=air.index,\n",
    "    sedimentIndex=sediment.index,\n",
    "    sedimentationRate= 2.*u.millimeter / u.year,\n",
    "    erosionRate= 2.*u.millimeter / u.year,\n",
    "    surfaceElevation=uppercrust.top,\n",
    "    surfaceArray = coords\n",
    ")\n",
    "\n",
    "\n",
    "\n",
    "\n"
   ]
  },
  {
   "cell_type": "code",
   "execution_count": null,
   "metadata": {},
   "outputs": [],
   "source": [
    "Fig = vis.Figure(figsize=(1200,400))\n",
    "Fig.Surface(Model.mesh, Model.projPlasticStrain)\n",
    "Fig.show()"
   ]
  },
  {
   "cell_type": "code",
   "execution_count": null,
   "metadata": {},
   "outputs": [],
   "source": [
    "Fig = vis.Figure(figsize=(1200,400))\n",
    "Fig.Points(Model.swarm, Model.materialField, fn_size=3.0)\n",
    "Fig.show()"
   ]
  },
  {
   "cell_type": "code",
   "execution_count": null,
   "metadata": {},
   "outputs": [],
   "source": [
    "Model.init_model()"
   ]
  },
  {
   "cell_type": "code",
   "execution_count": null,
   "metadata": {},
   "outputs": [],
   "source": [
    "Fig = vis.Figure(figsize=(1200,400))\n",
    "Fig.Surface(Model.mesh, Model.projViscosityField, logScale=True)\n",
    "Fig.show()"
   ]
  },
  {
   "cell_type": "code",
   "execution_count": null,
   "metadata": {
    "tags": []
   },
   "outputs": [],
   "source": [
    "Model.run_for(duration=2.01 * u.megayear, checkpoint_interval=0.1*u.megayears)"
   ]
  },
  {
   "cell_type": "code",
   "execution_count": null,
   "metadata": {},
   "outputs": [],
   "source": [
    "Fig = vis.Figure(figsize=(1200,400))\n",
    "### output tracers\n",
    "Fig.Points(Model.surface_tracers, pointSize=1.0)\n",
    "\n",
    "# for line in lines:\n",
    "#     Fig.Points(line, pointSize=2.0)\n",
    "Fig.Points(Model.swarm, Model.materialField, fn_size=2.0)\n",
    "Fig.show()"
   ]
  },
  {
   "cell_type": "code",
   "execution_count": null,
   "metadata": {},
   "outputs": [],
   "source": [
    "Fig = vis.Figure(figsize=(1200,400))\n",
    "Fig.Surface(Model.mesh, Model.strainRate_2ndInvariant, logScale=True)\n",
    "Fig.show()"
   ]
  },
  {
   "cell_type": "code",
   "execution_count": null,
   "metadata": {},
   "outputs": [],
   "source": []
  }
 ],
 "metadata": {
  "kernelspec": {
   "display_name": "Python 3 (ipykernel)",
   "language": "python",
   "name": "python3"
  },
  "language_info": {
   "codemirror_mode": {
    "name": "ipython",
    "version": 3
   },
   "file_extension": ".py",
   "mimetype": "text/x-python",
   "name": "python",
   "nbconvert_exporter": "python",
   "pygments_lexer": "ipython3",
   "version": "3.11.2"
  }
 },
 "nbformat": 4,
 "nbformat_minor": 4
}
