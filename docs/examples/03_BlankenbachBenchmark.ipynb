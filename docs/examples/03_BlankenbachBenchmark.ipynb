{
 "cells": [
  {
   "cell_type": "markdown",
   "metadata": {},
   "source": [
    "Blankenbach Benchmark Case 1\n",
    "======\n",
    "\n",
    "Steady isoviscous thermal convection\n",
    "----\n",
    "\n",
    "Two-dimensional, incompressible, bottom heated, steady isoviscous thermal convection in a 1 x 1 box, see case 1 of Blankenbach *et al.* 1989 for details.\n",
    "\n",
    "![title](./images/blankenbach.png)\n",
    "\n",
    "**This example introduces:**\n",
    "1. Loading/Saving variables to disk.\n",
    "2. Defining analysis tools.\n",
    "3. Finding a steady state.\n",
    "\n",
    "**Keywords:** Stokes system, advective diffusive systems, analysis tools\n",
    "\n",
    "**References**\n",
    "\n",
    "B. Blankenbach, F. Busse, U. Christensen, L. Cserepes, D. Gunkel, U. Hansen, H. Harder, G. Jarvis, M. Koch, G. Marquart, D. Moore, P. Olson, H. Schmeling and T. Schnaubelt. A benchmark comparison for mantle convection codes. Geophysical Journal International, 98, 1, 23–38, 1989\n",
    "http://onlinelibrary.wiley.com/doi/10.1111/j.1365-246X.1989.tb05511.x/abstract\n"
   ]
  },
  {
   "cell_type": "code",
   "execution_count": 1,
   "metadata": {},
   "outputs": [
    {
     "name": "stdout",
     "output_type": "stream",
     "text": [
      "No module named 'lavavu' : module not found! disabling inline visualisation\n"
     ]
    }
   ],
   "source": [
    "import underworld as uw\n",
    "from underworld import function as fn\n",
    "import underworld.visualisation as vis\n",
    "import math\n",
    "import numpy as np"
   ]
  },
  {
   "cell_type": "markdown",
   "metadata": {},
   "source": [
    "Setup parameters\n",
    "-----"
   ]
  },
  {
   "cell_type": "code",
   "execution_count": 2,
   "metadata": {},
   "outputs": [],
   "source": [
    "boxHeight = 1.0\n",
    "boxLength = 1.0\n",
    "# Set grid resolution.\n",
    "res = 128\n",
    "# Set max & min temperautres\n",
    "tempMin = 0.0\n",
    "tempMax = 1.0"
   ]
  },
  {
   "cell_type": "markdown",
   "metadata": {},
   "source": [
    "Choose which Rayleigh number, see case 1 of Blankenbach *et al.* 1989 for details."
   ]
  },
  {
   "cell_type": "code",
   "execution_count": 3,
   "metadata": {},
   "outputs": [],
   "source": [
    "case = \"a\" \n",
    "if(case==\"a\"):\n",
    "    Ra=1.e4\n",
    "    eta0=1.e23\n",
    "elif(case==\"b\"):\n",
    "    Ra=1.e5\n",
    "    eta0=1.e22\n",
    "else: \n",
    "    Ra=1.e6\n",
    "    eta0=1.e21"
   ]
  },
  {
   "cell_type": "markdown",
   "metadata": {},
   "source": [
    "Set input and output file directory "
   ]
  },
  {
   "cell_type": "code",
   "execution_count": 4,
   "metadata": {},
   "outputs": [],
   "source": [
    "inputPath  = 'input/03_BlankenbachBenchmark/'\n",
    "outputPath = 'output/'\n",
    "# Make output directory if necessary.\n",
    "if uw.mpi.rank==0:\n",
    "    import os\n",
    "    if not os.path.exists(outputPath):\n",
    "        os.makedirs(outputPath)"
   ]
  },
  {
   "cell_type": "markdown",
   "metadata": {},
   "source": [
    "Create mesh and variables\n",
    "------"
   ]
  },
  {
   "cell_type": "code",
   "execution_count": 5,
   "metadata": {},
   "outputs": [
    {
     "name": "stdout",
     "output_type": "stream",
     "text": [
      "\tGlobal element size: 128x128\n",
      "\tLocal offset of rank 0: 0x0\n",
      "\tLocal range of rank 0: 128x128\n"
     ]
    }
   ],
   "source": [
    "mesh = uw.mesh.FeMesh_Cartesian( elementType = (\"Q1/dQ0\"), \n",
    "                                 elementRes  = (res, res), \n",
    "                                 minCoord    = (0., 0.), \n",
    "                                 maxCoord    = (boxLength, boxHeight))\n",
    "\n",
    "velocityField       = mesh.add_variable(         nodeDofCount=2 )\n",
    "pressureField       = mesh.subMesh.add_variable( nodeDofCount=1 )\n",
    "temperatureField    = mesh.add_variable(         nodeDofCount=1 )\n",
    "temperatureDotField = mesh.add_variable(         nodeDofCount=1 )\n",
    "\n",
    "# initialise velocity, pressure and temperatureDot field\n",
    "velocityField.data[:]       = [0.,0.]\n",
    "pressureField.data[:]       = 0.\n",
    "temperatureField.data[:]    = 0.\n",
    "temperatureDotField.data[:] = 0."
   ]
  },
  {
   "cell_type": "markdown",
   "metadata": {},
   "source": [
    "Set up material parameters and functions\n",
    "-----\n",
    "\n",
    "Set values and functions for viscosity, density and buoyancy force."
   ]
  },
  {
   "cell_type": "code",
   "execution_count": 6,
   "metadata": {},
   "outputs": [],
   "source": [
    "# Set a constant viscosity.\n",
    "viscosity = 1.\n",
    "\n",
    "# Create our density function.\n",
    "densityFn = Ra * temperatureField\n",
    "\n",
    "# Define our vertical unit vector using a python tuple (this will be automatically converted to a function).\n",
    "z_hat = ( 0.0, 1.0 )\n",
    "\n",
    "# A buoyancy function.\n",
    "buoyancyFn = densityFn * z_hat"
   ]
  },
  {
   "cell_type": "markdown",
   "metadata": {},
   "source": [
    "Set initial temperature field\n",
    "-----\n",
    "The initial temperature field can be loaded from a pre-run steady state data set ( ``LoadFromFile = True`` ) or set to a sinusodial perterbation ( ``LoadFromFile = False`` )."
   ]
  },
  {
   "cell_type": "code",
   "execution_count": 7,
   "metadata": {},
   "outputs": [],
   "source": [
    "# Steady state temperature field to be loaded from data file.\n",
    "LoadFromFile = True"
   ]
  },
  {
   "cell_type": "markdown",
   "metadata": {},
   "source": [
    "**If loading steady state data set**\n",
    "\n",
    "Data is stored in h5 format from a 64\\*64 grid resolution model.  Data has been saved for 3 different Rayleigh numbers, $Ra = 10^4$, $10^5$ or $10^6$. \n",
    "\n",
    "Once loaded the data will need to be re-meshed onto a new grid, unless the new resolution is also 64\\*64.\n",
    "\n",
    "For more information on using meshes see the user guide.\n"
   ]
  },
  {
   "cell_type": "code",
   "execution_count": 8,
   "metadata": {},
   "outputs": [
    {
     "name": "stdout",
     "output_type": "stream",
     "text": [
      "\tGlobal element size: 64x64\n",
      "\tLocal offset of rank 0: 0x0\n",
      "\tLocal range of rank 0: 64x64\n"
     ]
    }
   ],
   "source": [
    "if(LoadFromFile == True):\n",
    "    # Setup mesh and temperature field for 64*64 data file.\n",
    "    mesh64 = uw.mesh.FeMesh_Cartesian( elementType = (\"Q1/dQ0\"), \n",
    "                                       elementRes  = (64, 64), \n",
    "                                       minCoord    = (0., 0.), \n",
    "                                       maxCoord    = (boxLength, boxHeight),\n",
    "                                       partitioned = False )\n",
    "    temperatureField64  = mesh64.add_variable( nodeDofCount=1 ) \n",
    "    \n",
    "    # read in saved steady state temperature field data\n",
    "    if( case == \"a\" ):\n",
    "        temperatureField64.load(inputPath+'tempfield_inp_64_Ra1e4.h5')\n",
    "    elif( case == \"b\" ):\n",
    "        temperatureField64.load(inputPath+'tempfield_inp_64_Ra1e5.h5')\n",
    "    else:\n",
    "        temperatureField64.load(inputPath+'tempfield_inp_64_Ra1e6.h5')\n",
    "        \n",
    "    if( res==64 ): # no remeshing needed, copy directly\n",
    "        temperatureField.data[:] = temperatureField64.data[:]\n",
    "    else: # remeshing needed\n",
    "        temperatureField.data[:] = temperatureField64.evaluate(mesh)"
   ]
  },
  {
   "cell_type": "markdown",
   "metadata": {},
   "source": [
    "**If using sinusodial perturbation**"
   ]
  },
  {
   "cell_type": "code",
   "execution_count": 9,
   "metadata": {},
   "outputs": [],
   "source": [
    "if(LoadFromFile == False):\n",
    "    temperatureField.data[:] = 0.\n",
    "    pertStrength = 0.1\n",
    "    deltaTemp = tempMax - tempMin\n",
    "    for index, coord in enumerate(mesh.data):\n",
    "        pertCoeff = math.cos( math.pi * coord[0]/boxLength ) * math.sin( math.pi * coord[1]/boxLength )\n",
    "        temperatureField.data[index] = tempMin + deltaTemp*(boxHeight - coord[1]) + pertStrength * pertCoeff\n",
    "        temperatureField.data[index] = max(tempMin, min(tempMax, temperatureField.data[index]))"
   ]
  },
  {
   "cell_type": "markdown",
   "metadata": {},
   "source": [
    "**Show initial temperature field**\n"
   ]
  },
  {
   "cell_type": "code",
   "execution_count": 10,
   "metadata": {},
   "outputs": [],
   "source": [
    "fig = vis.Figure()\n",
    "fig.append( vis.objects.Surface(mesh, temperatureField) )\n",
    "fig.show()"
   ]
  },
  {
   "cell_type": "markdown",
   "metadata": {},
   "source": [
    "Create boundary conditions\n",
    "----------\n",
    "\n",
    "Set temperature boundary conditions on the bottom ( ``MinJ`` ) and top ( ``MaxJ`` )."
   ]
  },
  {
   "cell_type": "code",
   "execution_count": 11,
   "metadata": {},
   "outputs": [],
   "source": [
    "for index in mesh.specialSets[\"MinJ_VertexSet\"]:\n",
    "    temperatureField.data[index] = tempMax\n",
    "for index in mesh.specialSets[\"MaxJ_VertexSet\"]:\n",
    "    temperatureField.data[index] = tempMin"
   ]
  },
  {
   "cell_type": "markdown",
   "metadata": {},
   "source": [
    "Construct sets for the both horizontal and vertical walls. Combine the sets of vertices to make the ``I`` (left and right side walls) and ``J`` (top and bottom walls) sets."
   ]
  },
  {
   "cell_type": "code",
   "execution_count": 12,
   "metadata": {},
   "outputs": [],
   "source": [
    "iWalls = mesh.specialSets[\"MinI_VertexSet\"] + mesh.specialSets[\"MaxI_VertexSet\"]\n",
    "jWalls = mesh.specialSets[\"MinJ_VertexSet\"] + mesh.specialSets[\"MaxJ_VertexSet\"]\n",
    "\n",
    "freeslipBC = uw.conditions.DirichletCondition( variable        = velocityField, \n",
    "                                               indexSetsPerDof = (iWalls, jWalls) )\n",
    "tempBC     = uw.conditions.DirichletCondition( variable        = temperatureField, \n",
    "                                               indexSetsPerDof = (jWalls,) )"
   ]
  },
  {
   "cell_type": "markdown",
   "metadata": {},
   "source": [
    "System setup\n",
    "-----\n",
    "\n",
    "**Setup a Stokes system**\n"
   ]
  },
  {
   "cell_type": "code",
   "execution_count": 13,
   "metadata": {},
   "outputs": [],
   "source": [
    "stokes = uw.systems.Stokes(    velocityField = velocityField, \n",
    "                               pressureField = pressureField,\n",
    "                               conditions    = [freeslipBC,],\n",
    "                               fn_viscosity  = viscosity, \n",
    "                               fn_bodyforce  = buoyancyFn )\n",
    "# get the default stokes equation solver\n",
    "solver = uw.systems.Solver( stokes )"
   ]
  },
  {
   "cell_type": "markdown",
   "metadata": {},
   "source": [
    "**Create an advection diffusion system**\n"
   ]
  },
  {
   "cell_type": "code",
   "execution_count": 14,
   "metadata": {},
   "outputs": [],
   "source": [
    "advDiff = uw.systems.AdvectionDiffusion( phiField       = temperatureField, \n",
    "                                         phiDotField    = temperatureDotField, \n",
    "                                         velocityField  = velocityField, \n",
    "                                         fn_diffusivity = 1.0, \n",
    "                                         conditions     = [tempBC,] )"
   ]
  },
  {
   "cell_type": "markdown",
   "metadata": {},
   "source": [
    "Analysis tools\n",
    "-----"
   ]
  },
  {
   "cell_type": "markdown",
   "metadata": {},
   "source": [
    "**Nusselt number**\n",
    "\n",
    "The Nusselt number is the ratio between convective and conductive heat transfer\n",
    "\n",
    "\\\\[\n",
    "Nu = -h \\frac{ \\int_0^l \\partial_z T (x, z=h) dx}{ \\int_0^l T (x, z=0) dx}\n",
    "\\\\]\n",
    "\n",
    "\n",
    "\n"
   ]
  },
  {
   "cell_type": "code",
   "execution_count": 15,
   "metadata": {},
   "outputs": [],
   "source": [
    "nuTop    = uw.utils.Integral( fn=temperatureField.fn_gradient[1], \n",
    "                              mesh=mesh, integrationType='Surface', \n",
    "                              surfaceIndexSet=mesh.specialSets[\"MaxJ_VertexSet\"])\n",
    "\n",
    "nuBottom = uw.utils.Integral( fn=temperatureField,               \n",
    "                              mesh=mesh, integrationType='Surface', \n",
    "                              surfaceIndexSet=mesh.specialSets[\"MinJ_VertexSet\"])"
   ]
  },
  {
   "cell_type": "code",
   "execution_count": 16,
   "metadata": {},
   "outputs": [
    {
     "name": "stdout",
     "output_type": "stream",
     "text": [
      "Nusselt number = 4.856902\n"
     ]
    }
   ],
   "source": [
    "nu = - nuTop.evaluate()[0]/nuBottom.evaluate()[0]\n",
    "if uw.mpi.rank == 0 : print('Nusselt number = {0:.6f}'.format(nu))"
   ]
  },
  {
   "cell_type": "markdown",
   "metadata": {},
   "source": [
    "**RMS velocity**\n",
    "\n",
    "The root mean squared velocity is defined by intergrating over the entire simulation domain via\n",
    "\n",
    "\\\\[\n",
    "\\begin{aligned}\n",
    "v_{rms}  =  \\sqrt{ \\frac{ \\int_V (\\mathbf{v}.\\mathbf{v}) dV } {\\int_V dV} }\n",
    "\\end{aligned}\n",
    "\\\\]\n",
    "\n",
    "where $V$ denotes the volume of the box."
   ]
  },
  {
   "cell_type": "code",
   "execution_count": 17,
   "metadata": {},
   "outputs": [
    {
     "name": "stdout",
     "output_type": "stream",
     "text": [
      "Initial vrms = 0.000\n"
     ]
    }
   ],
   "source": [
    "intVdotV = uw.utils.Integral( fn.math.dot( velocityField, velocityField ), mesh )\n",
    "\n",
    "vrms = math.sqrt( intVdotV.evaluate()[0] )\n",
    "if uw.mpi.rank == 0 : print('Initial vrms = {0:.3f}'.format(vrms))"
   ]
  },
  {
   "cell_type": "markdown",
   "metadata": {},
   "source": [
    "Main simulation loop\n",
    "-----"
   ]
  },
  {
   "cell_type": "markdown",
   "metadata": {},
   "source": [
    "If the initial conditions are loaded from file then this loop will only take a single step. If you would like to run the entire simulation from a small perturbation then change the ``LoadFromFile`` variable above to equal ``False``. Warning: the simulation will take a long time to get to steady state."
   ]
  },
  {
   "cell_type": "code",
   "execution_count": 18,
   "metadata": {},
   "outputs": [],
   "source": [
    "#initialise time, step, output arrays\n",
    "time = 0.\n",
    "step = 0\n",
    "timeVal = []\n",
    "vrmsVal = []\n",
    "\n",
    "# starting from steady state == True\n",
    "if(LoadFromFile == True):\n",
    "    step_end = 1\n",
    "else:\n",
    "    step_end = 5000\n",
    "\n",
    "# output frequency\n",
    "step_output = max(1,min(100, step_end/10))\n",
    "epsilon    = 1.e-8\n",
    "\n",
    "velplotmax = 0.0\n",
    "nuLast     = -1.0"
   ]
  },
  {
   "cell_type": "code",
   "execution_count": 19,
   "metadata": {},
   "outputs": [],
   "source": [
    "# define an update function\n",
    "def update():\n",
    "    # Determining the maximum timestep for advancing the a-d system.\n",
    "    dt = advDiff.get_max_dt()\n",
    "    # Advect using this timestep size. \n",
    "    advDiff.integrate(dt)\n",
    "    return time+dt, step+1"
   ]
  },
  {
   "cell_type": "code",
   "execution_count": 20,
   "metadata": {},
   "outputs": [
    {
     "name": "stdout",
     "output_type": "stream",
     "text": [
      "Linear solver (EWZCN4P0__system-execute) \n",
      "\n",
      "BSSCR -- Block Stokes Schur Compliment Reduction Solver \n",
      "AUGMENTED LAGRANGIAN K2 METHOD - Penalty = 0.000000\n",
      "\n",
      "SROpGenerator_SimpleFinestLevel: time = 1.91912e-02 \n",
      "  [6] SROpGenerator_SimpleCoarserLevel: time = 5.25826e-03 \n",
      "  [5] SROpGenerator_SimpleCoarserLevel: time = 1.48204e-03 \n",
      "  [4] SROpGenerator_SimpleCoarserLevel: time = 5.17261e-04 \n",
      "  [3] SROpGenerator_SimpleCoarserLevel: time = 2.80337e-04 \n",
      "  [2] SROpGenerator_SimpleCoarserLevel: time = 1.96727e-04 \n",
      "  [1] SROpGenerator_SimpleCoarserLevel: time = 1.76876e-04 \n",
      "  Setting schur_pc to \"uw\" \n",
      "\n",
      "\n",
      "SCR Solver Summary:\n",
      "\n",
      "  Multigrid setup:        = 0.02757 secs \n",
      "  RHS V Solve:            = 0.0722 secs / 7 its\n",
      "  Pressure Solve:         = 0.07141 secs / 1 its\n",
      "  Final V Solve:          = 0.07203 secs / 7 its\n",
      "\n",
      "  Total BSSCR Linear solve time: 0.387439 seconds\n",
      "\n",
      "Linear solver (EWZCN4P0__system-execute), solution time 3.945055e-01 (secs)\n",
      "steps =      0; time = 0.000e+00; v_rms = 42.869; Nu = 4.857; Rel change = 1.206e+00\n"
     ]
    },
    {
     "name": "stderr",
     "output_type": "stream",
     "text": [
      "/home/julian/codes/uw_soft/underworld2.git/cmake-fix/underworld/systems/_bsscr.py:501: UserWarning: A floating-point error has been detected during the solve. Solution fields are possibly erroneous. \n",
      "\n",
      "This is likely due to overly large value variations within your linear system, or a fragile (or incorrect) solver configuration. If your inputs are constructed using real world physical units, you may need to rescale them for solver amenability. \n",
      "\n",
      "\n",
      "  warnings.warn(estring)\n"
     ]
    },
    {
     "name": "stdout",
     "output_type": "stream",
     "text": [
      "Linear solver (LFN6LWAN__system-execute) \n",
      "Linear solver (LFN6LWAN__system-execute), solution time 1.250305e-01 (secs)\n",
      "Linear solver (EWZCN4P0__system-execute) \n",
      "\n",
      "BSSCR -- Block Stokes Schur Compliment Reduction Solver \n",
      "AUGMENTED LAGRANGIAN K2 METHOD - Penalty = 0.000000\n",
      "\n",
      "SROpGenerator_SimpleFinestLevel: time = 1.69827e-02 \n",
      "  [6] SROpGenerator_SimpleCoarserLevel: time = 5.00185e-03 \n",
      "  [5] SROpGenerator_SimpleCoarserLevel: time = 1.42069e-03 \n",
      "  [4] SROpGenerator_SimpleCoarserLevel: time = 4.94366e-04 \n",
      "  [3] SROpGenerator_SimpleCoarserLevel: time = 2.61802e-04 \n",
      "  [2] SROpGenerator_SimpleCoarserLevel: time = 1.95768e-04 \n",
      "  [1] SROpGenerator_SimpleCoarserLevel: time = 1.70486e-04 \n",
      "  Setting schur_pc to \"uw\" \n",
      "\n",
      "\n",
      "SCR Solver Summary:\n",
      "\n",
      "  Multigrid setup:        = 0.02486 secs \n",
      "  RHS V Solve:            = 0.07188 secs / 7 its\n",
      "  Pressure Solve:         = 0.07344 secs / 1 its\n",
      "  Final V Solve:          = 0.07305 secs / 7 its\n",
      "\n",
      "  Total BSSCR Linear solve time: 0.381127 seconds\n",
      "\n",
      "Linear solver (EWZCN4P0__system-execute), solution time 3.858582e-01 (secs)\n",
      "steps =      1; time = 3.052e-05; v_rms = 42.869; Nu = 4.864; Rel change = 1.416e-03\n",
      "Linear solver (LFN6LWAN__system-execute) \n",
      "Linear solver (LFN6LWAN__system-execute), solution time 1.286286e-01 (secs)\n"
     ]
    }
   ],
   "source": [
    "# Perform steps.\n",
    "while step<=step_end:\n",
    "    # Solving the Stokes system.\n",
    "    solver.solve()\n",
    "    \n",
    "    # Calculate & store the RMS velocity and Nusselt number.\n",
    "    vrms = math.sqrt( intVdotV.evaluate()[0] )\n",
    "    nu   = - nuTop.evaluate()[0]/nuBottom.evaluate()[0]\n",
    "    vrmsVal.append(vrms)\n",
    "    timeVal.append(time)\n",
    "    velplotmax = max(vrms, velplotmax)\n",
    "\n",
    "    # print output statistics \n",
    "    if step%(step_end/step_output) == 0:\n",
    "        if(uw.mpi.rank==0):\n",
    "            print('steps = {0:6d}; time = {1:.3e}; v_rms = {2:.3f}; Nu = {3:.3f}; Rel change = {4:.3e}'\n",
    "              .format(step, time, vrms, nu, abs((nu - nuLast)/nu)))\n",
    "    # Check loop break conditions.\n",
    "    if(abs((nu - nuLast)/nu) < epsilon):\n",
    "        if(uw.mpi.rank==0):\n",
    "            print('steps = {0:6d}; time = {1:.3e}; v_rms = {2:.3f}; Nu = {3:.3f}; Rel change = {4:.3e}'\n",
    "              .format(step, time, vrms, nu, abs((nu - nuLast)/nu)))\n",
    "        break\n",
    "    nuLast = nu\n",
    "    \n",
    "    # update\n",
    "    time, step = update()"
   ]
  },
  {
   "cell_type": "markdown",
   "metadata": {},
   "source": [
    "Post analysis\n",
    "-----\n",
    "\n",
    "**Benchmark values**\n",
    "\n",
    "The time loop above outputs $v_{rms}$ and $Nu$ as general statistics for the system. For comparison, the benchmark values for the RMS velocity and Nusselt number are shown below for different Rayleigh numbers. All benchmark values shown below were determined in Blankenbach *et al.* 1989 by extroplation of numerical results. \n",
    "\n",
    "\n",
    "| $Ra$          | $v_{rms}$   | $Nu$  |   $q_1$  | $q_2$  |\n",
    "| ------------- |:-------------:|:-----:|:-----:|:-----:|\n",
    "| 10$^4$ | 42.865 |  4.884 | 8.059 | 0.589 |\n",
    "| 10$^5$ | 193.215 | 10.535 | 19.079 | 0.723 |\n",
    "| 10$^6$ | 833.990 | 21.972 | 45.964 | 0.877 |\n"
   ]
  },
  {
   "cell_type": "code",
   "execution_count": 21,
   "metadata": {},
   "outputs": [],
   "source": [
    "# Let's add a test to ensure things are working as expected\n",
    "if case == \"a\":\n",
    "    if not np.isclose(nu,4.884,rtol=1.e-2):\n",
    "        raise RuntimeError(\"Model did not produce the expected Nusselt number.\")\n",
    "    if not np.isclose(vrms,42.865,rtol=1.e-2):\n",
    "        raise RuntimeError(\"Model did not produce the expected Nusselt number.\")"
   ]
  },
  {
   "cell_type": "markdown",
   "metadata": {},
   "source": [
    "**Resulting pressure field**\n",
    "\n",
    "Use the same method as above to plot the new temperature field. This can also be used to plot the pressure field, or any other data structures of interest."
   ]
  },
  {
   "cell_type": "code",
   "execution_count": 22,
   "metadata": {},
   "outputs": [],
   "source": [
    "figtemp = vis.Figure()\n",
    "figtemp.append( vis.objects.Surface( mesh, pressureField ) )\n",
    "figtemp.show()"
   ]
  },
  {
   "cell_type": "markdown",
   "metadata": {},
   "source": [
    "**Plot the velocity vector field**\n",
    "\n",
    "For this example the velocity field is interesting to see. This is visualised in two ways, firstly plotting a surface colour map of the velocity magnitude, and secondly the velocity vectors at points on the mesh. For aesthetics the vector arrows are scaled by a little more than the maximum $v_{rms}$ value found in the time loop above."
   ]
  },
  {
   "cell_type": "code",
   "execution_count": 23,
   "metadata": {},
   "outputs": [],
   "source": [
    "fig2 = vis.Figure()\n",
    "velmagfield = uw.function.math.sqrt( uw.function.math.dot( velocityField, velocityField ) )\n",
    "fig2.append( vis.objects.VectorArrows(mesh, velocityField/(2.5*velplotmax), arrowHead=0.2, scaling=0.1) )\n",
    "fig2.append( vis.objects.Surface(mesh, temperatureField) )\n",
    "fig2.show()"
   ]
  },
  {
   "cell_type": "markdown",
   "metadata": {},
   "source": [
    "Analysis\n",
    "----"
   ]
  },
  {
   "cell_type": "markdown",
   "metadata": {},
   "source": [
    "The final benchmarks in the Blankenbach paper involve the temperature gradient in the vertical direction ($\\frac{\\partial T}{\\partial z}$). This is easy to find using the underworld functions, as shown below.\n"
   ]
  },
  {
   "cell_type": "code",
   "execution_count": 24,
   "metadata": {},
   "outputs": [],
   "source": [
    "tempgradField = temperatureField.fn_gradient\n",
    "vertTGradField = - boxHeight * tempgradField[1] / tempMax # scaled for direct benchmarking below"
   ]
  },
  {
   "cell_type": "markdown",
   "metadata": {},
   "source": [
    "**More benchmark values**\n",
    "\n",
    "\n",
    "The vertical temperature gradient (above) is set up to be non-dimensional as per Blankenbach et al 1989. To compare to the benchmark values in their work the gradient is compared at the corners of the simulation box: $q_1$ at $x = 0$, $z = h$; $q_2$ at $x = l$, $z = h$; $q_3$ at $x = l$, $z = 0$; $q_4$ at $x = 0$, $z = 0$. Where $h$ = Box_Height and $l$ = Box_Length and the non-dimensional gradient field is given by\n",
    "\\\\[\n",
    "q = \\frac{-h}{\\Delta T} \\left( \\frac{\\partial T}{\\partial z} \\right)\n",
    "\\\\]\n",
    "\n",
    "Provided the simulation is run to steady-state with sufficent resolution then the $q$ values should be close to the benchmark values given again below for different Rayleigh numbers.\n",
    "\n",
    "| $Ra$          |    $q_1$  | $q_2$  |\n",
    "| ------------- |:-----:|:-----:|\n",
    "| 10$^4$ | 8.059 | 0.589 |\n",
    "| 10$^5$ | 19.079 | 0.723 |\n",
    "| 10$^6$ | 45.964 | 0.877 |\n"
   ]
  },
  {
   "cell_type": "code",
   "execution_count": 25,
   "metadata": {},
   "outputs": [
    {
     "name": "stdout",
     "output_type": "stream",
     "text": [
      "Rayleigh number = 1.0e+04\n",
      "q1 = 8.021; q2 = 0.589\n",
      "q3 = 8.021; q4 = 0.589\n"
     ]
    }
   ],
   "source": [
    "q1 = vertTGradField.evaluate_global( (       0., boxHeight) )\n",
    "q2 = vertTGradField.evaluate_global( (boxLength, boxHeight) )\n",
    "q3 = vertTGradField.evaluate_global( (boxLength,        0.) )\n",
    "q4 = vertTGradField.evaluate_global( (       0.,        0.) )\n",
    "\n",
    "if(uw.mpi.rank==0):\n",
    "    print('Rayleigh number = {0:.1e}'.format(Ra))\n",
    "    print('q1 = {0:.3f}; q2 = {1:.3f}'.format(q1[0][0], q2[0][0]))\n",
    "    print('q3 = {0:.3f}; q4 = {1:.3f}'.format(q3[0][0], q4[0][0]))\n",
    "    \n",
    "    # Let's add a test to ensure things are working as expected\n",
    "    if case == \"a\":\n",
    "        if not np.isclose(q1[0][0],8.020,rtol=1.e-2):\n",
    "            raise RuntimeError(\"Model did not produce the expected q1.\")\n",
    "        if not np.isclose(q2[0][0],0.589,rtol=1.e-2):\n",
    "            raise RuntimeError(\"Model did not produce the expected q2.\")"
   ]
  },
  {
   "cell_type": "markdown",
   "metadata": {},
   "source": [
    "**Save time and rms values**"
   ]
  },
  {
   "cell_type": "code",
   "execution_count": 26,
   "metadata": {},
   "outputs": [],
   "source": [
    "if(uw.mpi.rank==0):\n",
    "    np.savetxt(outputPath+'vrms.txt', np.c_[timeVal, vrmsVal], header=\"Time, VRMS\" )"
   ]
  },
  {
   "cell_type": "markdown",
   "metadata": {},
   "source": [
    "**Calculate stress values for benchmark comparison**\n",
    "\n",
    "\n",
    "Determine stress field for whole box in dimensionless units (King 2009)\n",
    "\\begin{equation}\n",
    "\\tau_{ij} = \\eta \\frac{1}{2} \\left[ \\frac{\\partial v_j}{\\partial x_i} + \\frac{\\partial v_i}{\\partial x_j}\\right]\n",
    "\\end{equation}\n",
    "which for vertical normal stress becomes\n",
    "\\begin{equation}\n",
    "\\tau_{zz} = \\eta \\frac{1}{2} \\left[ \\frac{\\partial v_z}{\\partial z} + \\frac{\\partial v_z}{\\partial z}\\right] = \\eta \\frac{\\partial v_z}{\\partial z}\n",
    "\\end{equation}\n",
    "which is implemented for the whole box in the functions defined below."
   ]
  },
  {
   "cell_type": "code",
   "execution_count": 27,
   "metadata": {},
   "outputs": [],
   "source": [
    "# get topography\n",
    "stresstensorFn = 2.* stokes.fn_viscosity*fn.tensor.symmetric( velocityField.fn_gradient ) - (1.,1.,0.)*pressureField\n",
    "verticalStressFn  = stresstensorFn[1]\n",
    "\n",
    "# subtract the average value for benchmark\n",
    "top_verts = mesh.specialSets[\"MaxJ_VertexSet\"]\n",
    "mean_sigma_zz_top = uw.utils.Integral(-verticalStressFn,\n",
    "                                      mesh,\n",
    "                                      'surface',\n",
    "                                      top_verts).evaluate()/boxLength\n",
    "sigma_zz_top = -verticalStressFn - mean_sigma_zz_top"
   ]
  },
  {
   "cell_type": "markdown",
   "metadata": {},
   "source": [
    "Dimensionalise the stress from the vertical normal stress at the top of the box (King 2009)\n",
    "\n",
    "$$\n",
    "    \\sigma_{t} = \\frac{\\eta_0 \\kappa}{\\rho g h^2}\\tau _{zz} \\left( x, z=h\\right)\n",
    "$$\n",
    "\n",
    "where all constants have been defined above. Finally calculate the topography, defined using $h = \\sigma_{top} / (\\rho g)$."
   ]
  },
  {
   "cell_type": "code",
   "execution_count": 28,
   "metadata": {},
   "outputs": [],
   "source": [
    "# Set parameters in SI units\n",
    "grav = 10        # m.s^-2\n",
    "height = 1.e6    # m \n",
    "rho  = 4.0e3     # g.m^-3\n",
    "kappa  = 1.0e-6  # m^2.s^-1\n",
    "\n",
    "# dimensionalise \n",
    "dim_sigma_zz_top  = (eta0 * kappa / (height*height)) * sigma_zz_top\n",
    "\n",
    "# find topography in [m]\n",
    "topography        = dim_sigma_zz_top / (rho * grav) "
   ]
  },
  {
   "cell_type": "markdown",
   "metadata": {},
   "source": [
    "**Calculate x-coordinate at zero stress**\n",
    "\n",
    "Calculate the zero point for the stress along the x-axis at the top of the box."
   ]
  },
  {
   "cell_type": "code",
   "execution_count": 29,
   "metadata": {},
   "outputs": [],
   "source": [
    "# First construct abs function\n",
    "abs_topo = fn.math.abs(topography)\n",
    "# Now create a `min_max` view function.\n",
    "# These functions don't modify results, they simply observe\n",
    "# calculated results as functions are being evaluated. \n",
    "# We will use this to watch out for the minimum value as \n",
    "# we traverse function evaluates.\n",
    "# We also set `fn_auxiliary` which allows us to also capture\n",
    "# the coordinate of the min value.\n",
    "abs_topo_min_max = fn.view.min_max(abs_topo,fn_auxiliary=fn.coord())   # create min_max\n",
    "ignore = abs_topo_min_max.evaluate(mesh.specialSets[\"MaxJ_VertexSet\"]) # traverse function evaluations\n",
    "min_abs_topo_coord = abs_topo_min_max.min_global_auxiliary()[0][0]     # get x coord of global min"
   ]
  },
  {
   "cell_type": "markdown",
   "metadata": {},
   "source": [
    "**Topography comparison**\n",
    "\n",
    "Topography of the top boundary calculated in the left and right corners as given in Table 9 of Blankenbach et al 1989.\n",
    "\n",
    "| $Ra$          |    $\\xi_1$  | $\\xi_2$  |  $x$ ($\\xi = 0$) |\n",
    "| ------------- |:-----------:|:--------:|:--------------:|\n",
    "| 10$^4$  | 2254.02   | -2903.23  | 0.539372          |\n",
    "| 10$^5$  | 1460.99   | -2004.20  | 0.529330          |\n",
    "| 10$^6$  | 931.96   | -1283.80  | 0.506490          |\n"
   ]
  },
  {
   "cell_type": "code",
   "execution_count": null,
   "metadata": {},
   "outputs": [],
   "source": [
    "e1 = topography.evaluate_global( (       0.,boxHeight) )\n",
    "e2 = topography.evaluate_global( (boxLength,boxHeight) )\n",
    "\n",
    "if(uw.mpi.rank==0):\n",
    "    e1 = e1[0][0]  # pull values out of list of results\n",
    "    e2 = e2[0][0]  # pull values out of list of results\n",
    "    print('Rayleigh number = {0:.1e}'.format(Ra))\n",
    "    print('Topography[x=0],[x=max] = {0:.2f}, {1:.2f}'.format(e1, e2))\n",
    "    print('x(topo=0) = {0:.6f}'.format(min_abs_topo_coord))\n",
    "    # output a summary file with benchmark values (useful for parallel runs)\n",
    "    data = [Ra, e1, e2, min_abs_topo_coord, q1, q2, q3, q4]\n",
    "    d1 = np.asarray([float(i) for i in data]) # sanitise data into signle array\n",
    "    np.savetxt(outputPath+'summary.txt', d1)\n",
    "    # Let's add a test to ensure things are working as expected\n",
    "    if case == \"a\":\n",
    "        if not np.isclose(e1,2254.02,rtol=1.e-3):\n",
    "            raise RuntimeError(\"Model did not produce the expected xi1.\")\n",
    "        if not np.isclose(e2,-2903.23,rtol=1.e-3):\n",
    "            raise RuntimeError(\"Model did not produce the expected xi2.\")\n",
    "        if not np.isclose(min_abs_topo_coord,0.539372,rtol=1.e-3):\n",
    "            raise RuntimeError(\"Model did not produce the expected xi2.\")"
   ]
  }
 ],
 "metadata": {
  "kernelspec": {
   "display_name": "Python 3 (ipykernel)",
   "language": "python",
   "name": "python3"
  },
  "language_info": {
   "codemirror_mode": {
    "name": "ipython",
    "version": 3
   },
   "file_extension": ".py",
   "mimetype": "text/x-python",
   "name": "python",
   "nbconvert_exporter": "python",
   "pygments_lexer": "ipython3",
   "version": "3.10.0"
  }
 },
 "nbformat": 4,
 "nbformat_minor": 4
}
